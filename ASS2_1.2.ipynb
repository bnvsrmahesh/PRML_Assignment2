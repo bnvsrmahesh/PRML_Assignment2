{
 "cells": [
  {
   "cell_type": "code",
   "execution_count": 33,
   "metadata": {},
   "outputs": [],
   "source": [
    "import numpy as np\n",
    "import pandas as pd\n",
    "import matplotlib.pyplot as plt\n",
    "from sklearn.model_selection import train_test_split"
   ]
  },
  {
   "cell_type": "code",
   "execution_count": 34,
   "metadata": {},
   "outputs": [],
   "source": [
    "Data_df = pd.read_csv('Dataset_3_Team_3.csv')"
   ]
  },
  {
   "cell_type": "code",
   "execution_count": 35,
   "metadata": {},
   "outputs": [],
   "source": [
    "Data2_df = pd.read_csv('Dataset_3_Team_3.csv')"
   ]
  },
  {
   "cell_type": "code",
   "execution_count": 36,
   "metadata": {},
   "outputs": [
    {
     "data": {
      "text/html": [
       "<div>\n",
       "<style scoped>\n",
       "    .dataframe tbody tr th:only-of-type {\n",
       "        vertical-align: middle;\n",
       "    }\n",
       "\n",
       "    .dataframe tbody tr th {\n",
       "        vertical-align: top;\n",
       "    }\n",
       "\n",
       "    .dataframe thead th {\n",
       "        text-align: right;\n",
       "    }\n",
       "</style>\n",
       "<table border=\"1\" class=\"dataframe\">\n",
       "  <thead>\n",
       "    <tr style=\"text-align: right;\">\n",
       "      <th></th>\n",
       "      <th># x_1</th>\n",
       "      <th>x_2</th>\n",
       "      <th>Class_label</th>\n",
       "    </tr>\n",
       "  </thead>\n",
       "  <tbody>\n",
       "    <tr>\n",
       "      <th>0</th>\n",
       "      <td>-0.779573</td>\n",
       "      <td>0.398270</td>\n",
       "      <td>0</td>\n",
       "    </tr>\n",
       "    <tr>\n",
       "      <th>1</th>\n",
       "      <td>0.252290</td>\n",
       "      <td>-0.394026</td>\n",
       "      <td>1</td>\n",
       "    </tr>\n",
       "    <tr>\n",
       "      <th>2</th>\n",
       "      <td>-0.250315</td>\n",
       "      <td>-0.645048</td>\n",
       "      <td>1</td>\n",
       "    </tr>\n",
       "    <tr>\n",
       "      <th>3</th>\n",
       "      <td>0.975920</td>\n",
       "      <td>0.444398</td>\n",
       "      <td>0</td>\n",
       "    </tr>\n",
       "    <tr>\n",
       "      <th>4</th>\n",
       "      <td>0.036765</td>\n",
       "      <td>-1.017833</td>\n",
       "      <td>0</td>\n",
       "    </tr>\n",
       "    <tr>\n",
       "      <th>5</th>\n",
       "      <td>0.960677</td>\n",
       "      <td>-0.122052</td>\n",
       "      <td>0</td>\n",
       "    </tr>\n",
       "    <tr>\n",
       "      <th>6</th>\n",
       "      <td>0.302335</td>\n",
       "      <td>1.102372</td>\n",
       "      <td>0</td>\n",
       "    </tr>\n",
       "    <tr>\n",
       "      <th>7</th>\n",
       "      <td>-0.812172</td>\n",
       "      <td>-0.562510</td>\n",
       "      <td>0</td>\n",
       "    </tr>\n",
       "    <tr>\n",
       "      <th>8</th>\n",
       "      <td>0.338202</td>\n",
       "      <td>0.605678</td>\n",
       "      <td>1</td>\n",
       "    </tr>\n",
       "    <tr>\n",
       "      <th>9</th>\n",
       "      <td>0.628770</td>\n",
       "      <td>-0.226330</td>\n",
       "      <td>1</td>\n",
       "    </tr>\n",
       "    <tr>\n",
       "      <th>10</th>\n",
       "      <td>0.466523</td>\n",
       "      <td>0.172723</td>\n",
       "      <td>1</td>\n",
       "    </tr>\n",
       "    <tr>\n",
       "      <th>11</th>\n",
       "      <td>0.108292</td>\n",
       "      <td>0.489510</td>\n",
       "      <td>1</td>\n",
       "    </tr>\n",
       "    <tr>\n",
       "      <th>12</th>\n",
       "      <td>-0.161239</td>\n",
       "      <td>0.656834</td>\n",
       "      <td>1</td>\n",
       "    </tr>\n",
       "    <tr>\n",
       "      <th>13</th>\n",
       "      <td>0.013091</td>\n",
       "      <td>0.600955</td>\n",
       "      <td>1</td>\n",
       "    </tr>\n",
       "    <tr>\n",
       "      <th>14</th>\n",
       "      <td>-0.769071</td>\n",
       "      <td>0.483586</td>\n",
       "      <td>0</td>\n",
       "    </tr>\n",
       "    <tr>\n",
       "      <th>15</th>\n",
       "      <td>-0.429727</td>\n",
       "      <td>0.666795</td>\n",
       "      <td>1</td>\n",
       "    </tr>\n",
       "    <tr>\n",
       "      <th>16</th>\n",
       "      <td>0.476739</td>\n",
       "      <td>-0.917286</td>\n",
       "      <td>0</td>\n",
       "    </tr>\n",
       "    <tr>\n",
       "      <th>17</th>\n",
       "      <td>-0.845861</td>\n",
       "      <td>-0.505827</td>\n",
       "      <td>0</td>\n",
       "    </tr>\n",
       "    <tr>\n",
       "      <th>18</th>\n",
       "      <td>0.403804</td>\n",
       "      <td>0.985631</td>\n",
       "      <td>0</td>\n",
       "    </tr>\n",
       "    <tr>\n",
       "      <th>19</th>\n",
       "      <td>-0.602227</td>\n",
       "      <td>0.253598</td>\n",
       "      <td>1</td>\n",
       "    </tr>\n",
       "    <tr>\n",
       "      <th>20</th>\n",
       "      <td>0.540523</td>\n",
       "      <td>-0.864165</td>\n",
       "      <td>0</td>\n",
       "    </tr>\n",
       "    <tr>\n",
       "      <th>21</th>\n",
       "      <td>0.192076</td>\n",
       "      <td>0.520601</td>\n",
       "      <td>1</td>\n",
       "    </tr>\n",
       "    <tr>\n",
       "      <th>22</th>\n",
       "      <td>0.708271</td>\n",
       "      <td>-0.165368</td>\n",
       "      <td>1</td>\n",
       "    </tr>\n",
       "    <tr>\n",
       "      <th>23</th>\n",
       "      <td>0.179839</td>\n",
       "      <td>0.442318</td>\n",
       "      <td>1</td>\n",
       "    </tr>\n",
       "    <tr>\n",
       "      <th>24</th>\n",
       "      <td>-0.663606</td>\n",
       "      <td>-0.718922</td>\n",
       "      <td>0</td>\n",
       "    </tr>\n",
       "    <tr>\n",
       "      <th>25</th>\n",
       "      <td>-0.968272</td>\n",
       "      <td>0.021446</td>\n",
       "      <td>0</td>\n",
       "    </tr>\n",
       "    <tr>\n",
       "      <th>26</th>\n",
       "      <td>-0.419919</td>\n",
       "      <td>-1.097894</td>\n",
       "      <td>0</td>\n",
       "    </tr>\n",
       "    <tr>\n",
       "      <th>27</th>\n",
       "      <td>-0.170319</td>\n",
       "      <td>0.516594</td>\n",
       "      <td>1</td>\n",
       "    </tr>\n",
       "    <tr>\n",
       "      <th>28</th>\n",
       "      <td>-0.296879</td>\n",
       "      <td>0.624137</td>\n",
       "      <td>1</td>\n",
       "    </tr>\n",
       "    <tr>\n",
       "      <th>29</th>\n",
       "      <td>-0.585447</td>\n",
       "      <td>-0.043964</td>\n",
       "      <td>1</td>\n",
       "    </tr>\n",
       "    <tr>\n",
       "      <th>...</th>\n",
       "      <td>...</td>\n",
       "      <td>...</td>\n",
       "      <td>...</td>\n",
       "    </tr>\n",
       "    <tr>\n",
       "      <th>970</th>\n",
       "      <td>0.512000</td>\n",
       "      <td>-0.874970</td>\n",
       "      <td>0</td>\n",
       "    </tr>\n",
       "    <tr>\n",
       "      <th>971</th>\n",
       "      <td>0.199563</td>\n",
       "      <td>0.637834</td>\n",
       "      <td>1</td>\n",
       "    </tr>\n",
       "    <tr>\n",
       "      <th>972</th>\n",
       "      <td>0.569433</td>\n",
       "      <td>-0.014757</td>\n",
       "      <td>1</td>\n",
       "    </tr>\n",
       "    <tr>\n",
       "      <th>973</th>\n",
       "      <td>-0.999741</td>\n",
       "      <td>-0.362651</td>\n",
       "      <td>0</td>\n",
       "    </tr>\n",
       "    <tr>\n",
       "      <th>974</th>\n",
       "      <td>-0.990780</td>\n",
       "      <td>-0.159742</td>\n",
       "      <td>0</td>\n",
       "    </tr>\n",
       "    <tr>\n",
       "      <th>975</th>\n",
       "      <td>0.686142</td>\n",
       "      <td>-0.238903</td>\n",
       "      <td>1</td>\n",
       "    </tr>\n",
       "    <tr>\n",
       "      <th>976</th>\n",
       "      <td>-0.466408</td>\n",
       "      <td>0.445268</td>\n",
       "      <td>1</td>\n",
       "    </tr>\n",
       "    <tr>\n",
       "      <th>977</th>\n",
       "      <td>0.731872</td>\n",
       "      <td>-0.790114</td>\n",
       "      <td>0</td>\n",
       "    </tr>\n",
       "    <tr>\n",
       "      <th>978</th>\n",
       "      <td>0.447200</td>\n",
       "      <td>0.198204</td>\n",
       "      <td>1</td>\n",
       "    </tr>\n",
       "    <tr>\n",
       "      <th>979</th>\n",
       "      <td>-0.435773</td>\n",
       "      <td>-1.017840</td>\n",
       "      <td>0</td>\n",
       "    </tr>\n",
       "    <tr>\n",
       "      <th>980</th>\n",
       "      <td>0.450465</td>\n",
       "      <td>-0.325657</td>\n",
       "      <td>1</td>\n",
       "    </tr>\n",
       "    <tr>\n",
       "      <th>981</th>\n",
       "      <td>0.079260</td>\n",
       "      <td>-0.719736</td>\n",
       "      <td>1</td>\n",
       "    </tr>\n",
       "    <tr>\n",
       "      <th>982</th>\n",
       "      <td>-0.347181</td>\n",
       "      <td>0.441466</td>\n",
       "      <td>1</td>\n",
       "    </tr>\n",
       "    <tr>\n",
       "      <th>983</th>\n",
       "      <td>0.524945</td>\n",
       "      <td>0.182351</td>\n",
       "      <td>1</td>\n",
       "    </tr>\n",
       "    <tr>\n",
       "      <th>984</th>\n",
       "      <td>0.415167</td>\n",
       "      <td>-0.483907</td>\n",
       "      <td>1</td>\n",
       "    </tr>\n",
       "    <tr>\n",
       "      <th>985</th>\n",
       "      <td>1.045784</td>\n",
       "      <td>0.269669</td>\n",
       "      <td>0</td>\n",
       "    </tr>\n",
       "    <tr>\n",
       "      <th>986</th>\n",
       "      <td>-0.456094</td>\n",
       "      <td>-0.373839</td>\n",
       "      <td>1</td>\n",
       "    </tr>\n",
       "    <tr>\n",
       "      <th>987</th>\n",
       "      <td>0.202685</td>\n",
       "      <td>-0.449658</td>\n",
       "      <td>1</td>\n",
       "    </tr>\n",
       "    <tr>\n",
       "      <th>988</th>\n",
       "      <td>-0.498583</td>\n",
       "      <td>0.190202</td>\n",
       "      <td>1</td>\n",
       "    </tr>\n",
       "    <tr>\n",
       "      <th>989</th>\n",
       "      <td>-0.206391</td>\n",
       "      <td>0.934193</td>\n",
       "      <td>0</td>\n",
       "    </tr>\n",
       "    <tr>\n",
       "      <th>990</th>\n",
       "      <td>-0.869466</td>\n",
       "      <td>-0.403631</td>\n",
       "      <td>0</td>\n",
       "    </tr>\n",
       "    <tr>\n",
       "      <th>991</th>\n",
       "      <td>-0.152062</td>\n",
       "      <td>0.618607</td>\n",
       "      <td>1</td>\n",
       "    </tr>\n",
       "    <tr>\n",
       "      <th>992</th>\n",
       "      <td>0.468170</td>\n",
       "      <td>-0.864207</td>\n",
       "      <td>0</td>\n",
       "    </tr>\n",
       "    <tr>\n",
       "      <th>993</th>\n",
       "      <td>0.640780</td>\n",
       "      <td>0.280523</td>\n",
       "      <td>1</td>\n",
       "    </tr>\n",
       "    <tr>\n",
       "      <th>994</th>\n",
       "      <td>-0.707448</td>\n",
       "      <td>-0.016625</td>\n",
       "      <td>1</td>\n",
       "    </tr>\n",
       "    <tr>\n",
       "      <th>995</th>\n",
       "      <td>0.328304</td>\n",
       "      <td>-0.579064</td>\n",
       "      <td>1</td>\n",
       "    </tr>\n",
       "    <tr>\n",
       "      <th>996</th>\n",
       "      <td>-0.094874</td>\n",
       "      <td>0.535798</td>\n",
       "      <td>1</td>\n",
       "    </tr>\n",
       "    <tr>\n",
       "      <th>997</th>\n",
       "      <td>-0.917891</td>\n",
       "      <td>-0.282423</td>\n",
       "      <td>0</td>\n",
       "    </tr>\n",
       "    <tr>\n",
       "      <th>998</th>\n",
       "      <td>0.736392</td>\n",
       "      <td>-0.394400</td>\n",
       "      <td>0</td>\n",
       "    </tr>\n",
       "    <tr>\n",
       "      <th>999</th>\n",
       "      <td>-0.488241</td>\n",
       "      <td>-0.456035</td>\n",
       "      <td>1</td>\n",
       "    </tr>\n",
       "  </tbody>\n",
       "</table>\n",
       "<p>1000 rows × 3 columns</p>\n",
       "</div>"
      ],
      "text/plain": [
       "        # x_1       x_2  Class_label\n",
       "0   -0.779573  0.398270            0\n",
       "1    0.252290 -0.394026            1\n",
       "2   -0.250315 -0.645048            1\n",
       "3    0.975920  0.444398            0\n",
       "4    0.036765 -1.017833            0\n",
       "5    0.960677 -0.122052            0\n",
       "6    0.302335  1.102372            0\n",
       "7   -0.812172 -0.562510            0\n",
       "8    0.338202  0.605678            1\n",
       "9    0.628770 -0.226330            1\n",
       "10   0.466523  0.172723            1\n",
       "11   0.108292  0.489510            1\n",
       "12  -0.161239  0.656834            1\n",
       "13   0.013091  0.600955            1\n",
       "14  -0.769071  0.483586            0\n",
       "15  -0.429727  0.666795            1\n",
       "16   0.476739 -0.917286            0\n",
       "17  -0.845861 -0.505827            0\n",
       "18   0.403804  0.985631            0\n",
       "19  -0.602227  0.253598            1\n",
       "20   0.540523 -0.864165            0\n",
       "21   0.192076  0.520601            1\n",
       "22   0.708271 -0.165368            1\n",
       "23   0.179839  0.442318            1\n",
       "24  -0.663606 -0.718922            0\n",
       "25  -0.968272  0.021446            0\n",
       "26  -0.419919 -1.097894            0\n",
       "27  -0.170319  0.516594            1\n",
       "28  -0.296879  0.624137            1\n",
       "29  -0.585447 -0.043964            1\n",
       "..        ...       ...          ...\n",
       "970  0.512000 -0.874970            0\n",
       "971  0.199563  0.637834            1\n",
       "972  0.569433 -0.014757            1\n",
       "973 -0.999741 -0.362651            0\n",
       "974 -0.990780 -0.159742            0\n",
       "975  0.686142 -0.238903            1\n",
       "976 -0.466408  0.445268            1\n",
       "977  0.731872 -0.790114            0\n",
       "978  0.447200  0.198204            1\n",
       "979 -0.435773 -1.017840            0\n",
       "980  0.450465 -0.325657            1\n",
       "981  0.079260 -0.719736            1\n",
       "982 -0.347181  0.441466            1\n",
       "983  0.524945  0.182351            1\n",
       "984  0.415167 -0.483907            1\n",
       "985  1.045784  0.269669            0\n",
       "986 -0.456094 -0.373839            1\n",
       "987  0.202685 -0.449658            1\n",
       "988 -0.498583  0.190202            1\n",
       "989 -0.206391  0.934193            0\n",
       "990 -0.869466 -0.403631            0\n",
       "991 -0.152062  0.618607            1\n",
       "992  0.468170 -0.864207            0\n",
       "993  0.640780  0.280523            1\n",
       "994 -0.707448 -0.016625            1\n",
       "995  0.328304 -0.579064            1\n",
       "996 -0.094874  0.535798            1\n",
       "997 -0.917891 -0.282423            0\n",
       "998  0.736392 -0.394400            0\n",
       "999 -0.488241 -0.456035            1\n",
       "\n",
       "[1000 rows x 3 columns]"
      ]
     },
     "execution_count": 36,
     "metadata": {},
     "output_type": "execute_result"
    }
   ],
   "source": [
    "Data2_df"
   ]
  },
  {
   "cell_type": "code",
   "execution_count": 37,
   "metadata": {},
   "outputs": [],
   "source": [
    "X = Data_df.values\n",
    "X = X[:,0:2]"
   ]
  },
  {
   "cell_type": "code",
   "execution_count": 38,
   "metadata": {},
   "outputs": [],
   "source": [
    "Y = Data_df.values\n",
    "Y = Y[:,2]"
   ]
  },
  {
   "cell_type": "code",
   "execution_count": 39,
   "metadata": {},
   "outputs": [],
   "source": [
    "X_train, X_test, y_train, y_test = train_test_split( X, Y, test_size=0.2, random_state=42)"
   ]
  },
  {
   "cell_type": "code",
   "execution_count": 40,
   "metadata": {},
   "outputs": [],
   "source": [
    "y_train = y_train.reshape(1,-1)\n",
    "y_test  = y_test.reshape(1,-1)"
   ]
  },
  {
   "cell_type": "code",
   "execution_count": 41,
   "metadata": {},
   "outputs": [],
   "source": [
    "y_test2 = y_test.T"
   ]
  },
  {
   "cell_type": "code",
   "execution_count": null,
   "metadata": {},
   "outputs": [],
   "source": []
  },
  {
   "cell_type": "code",
   "execution_count": 42,
   "metadata": {},
   "outputs": [],
   "source": [
    "def sigmoid(a):\n",
    "    s = 1/(1+np.exp(-1*a))\n",
    "    return(s)"
   ]
  },
  {
   "cell_type": "code",
   "execution_count": 43,
   "metadata": {},
   "outputs": [],
   "source": [
    "k = np.dot(X_train,X_train.T) + 1 #Linear Kernel\n",
    "k = k.T"
   ]
  },
  {
   "cell_type": "code",
   "execution_count": 44,
   "metadata": {},
   "outputs": [
    {
     "data": {
      "text/plain": [
       "(800, 800)"
      ]
     },
     "execution_count": 44,
     "metadata": {},
     "output_type": "execute_result"
    }
   ],
   "source": [
    "k.shape"
   ]
  },
  {
   "cell_type": "code",
   "execution_count": 45,
   "metadata": {},
   "outputs": [],
   "source": [
    "k_test = np.dot(X_test,X_train.T) + 1\n",
    "k_test = k_test.T"
   ]
  },
  {
   "cell_type": "code",
   "execution_count": 46,
   "metadata": {},
   "outputs": [],
   "source": [
    "def optimize(w, b, X, Y, num_iterations, learning_rate, print_cost = False):    \n",
    "    costs = []   \n",
    "    for i in range(num_iterations):\n",
    "        m = X.shape[1]\n",
    "        A = sigmoid(np.dot(w.T,X)+b)\n",
    "        dw = (1/m)*np.dot(X,(A-Y).T)\n",
    "        db = (1/m)*np.sum(A-Y)\n",
    "        w = w - learning_rate*dw\n",
    "        b = b - learning_rate*db   \n",
    "    params = {\"w\": w,\n",
    "              \"b\": b}    \n",
    "    grads = {\"dw\": dw,\n",
    "             \"db\": db}\n",
    "    \n",
    "    return params, grads"
   ]
  },
  {
   "cell_type": "code",
   "execution_count": 47,
   "metadata": {},
   "outputs": [],
   "source": [
    "def predict(w, b, X):\n",
    "    \n",
    "    m = X.shape[1]\n",
    "    Y_prediction = np.zeros((1,m))\n",
    "    w = w.reshape(X.shape[0], 1)\n",
    "    A = sigmoid(np.dot(w.T,X)+b)     \n",
    "    for i in range(A.shape[1]):\n",
    "        if A[0][i] <= 0.5 :\n",
    "            Y_prediction[0][i] = 0\n",
    "        else:\n",
    "            Y_prediction[0][i] = 1    \n",
    "    assert(Y_prediction.shape == (1, m))\n",
    "    \n",
    "    return Y_prediction"
   ]
  },
  {
   "cell_type": "code",
   "execution_count": 48,
   "metadata": {},
   "outputs": [],
   "source": [
    "def model(k, y_train, k_test, y_test, num_iterations = 2000, learning_rate = 0.5):\n",
    "    w = np.zeros((k.shape[0],1))\n",
    "    b = 0\n",
    "    parameters, grads = optimize(w, b, k, y_train, num_iterations, learning_rate)\n",
    "    w = parameters[\"w\"]\n",
    "    b = parameters[\"b\"]\n",
    "    print(np.shape(k_test))\n",
    "    Y_prediction_test =  predict(w, b, k_test)\n",
    "    Y_prediction_train = predict(w, b, k)\n",
    "    print(\"train accuracy: {} %\".format(100 - np.mean(np.abs(Y_prediction_train - y_train)) * 100))\n",
    "    print(\"test accuracy: {} %\".format(100 - np.mean(np.abs(Y_prediction_test - y_test)) * 100))\n",
    "    d = {\n",
    "         \"Y_prediction_test\": Y_prediction_test, \n",
    "         \"Y_prediction_train\" : Y_prediction_train, \n",
    "         \"w\" : w, \n",
    "         \"b\" : b,\n",
    "         \"learning_rate\" : learning_rate,\n",
    "         \"num_iterations\": num_iterations}\n",
    "    \n",
    "    return d"
   ]
  },
  {
   "cell_type": "code",
   "execution_count": 49,
   "metadata": {},
   "outputs": [
    {
     "name": "stdout",
     "output_type": "stream",
     "text": [
      "(800, 200)\n",
      "train accuracy: 50.625 %\n",
      "test accuracy: 51.0 %\n"
     ]
    }
   ],
   "source": [
    "d = model(k, y_train, k_test, y_test, num_iterations = 20000, learning_rate = 0.5)"
   ]
  },
  {
   "cell_type": "code",
   "execution_count": 67,
   "metadata": {},
   "outputs": [],
   "source": [
    "counter = 0\n",
    "y_pred_train = d['Y_prediction_train']\n",
    "cm = np.zeros((2,2))\n",
    "for i in range(y_train.shape[1]):\n",
    "    cm[int(y_pred_train[0,i]),int(y_train[0,i])] += 1\n",
    "    \n",
    "\n"
   ]
  },
  {
   "cell_type": "code",
   "execution_count": 68,
   "metadata": {},
   "outputs": [
    {
     "data": {
      "text/plain": [
       "array([[  5.,   0.],\n",
       "       [395., 400.]])"
      ]
     },
     "execution_count": 68,
     "metadata": {},
     "output_type": "execute_result"
    }
   ],
   "source": [
    "cm"
   ]
  },
  {
   "cell_type": "code",
   "execution_count": 52,
   "metadata": {},
   "outputs": [],
   "source": [
    "k_poly =  (np.dot(X_train,X_train.T) + 1) **3 #Polynomial Kernel of degree 3\n",
    "k_poly = k_poly.T"
   ]
  },
  {
   "cell_type": "code",
   "execution_count": 53,
   "metadata": {},
   "outputs": [
    {
     "data": {
      "text/plain": [
       "(800, 800)"
      ]
     },
     "execution_count": 53,
     "metadata": {},
     "output_type": "execute_result"
    }
   ],
   "source": [
    "k_poly.shape"
   ]
  },
  {
   "cell_type": "code",
   "execution_count": 54,
   "metadata": {},
   "outputs": [],
   "source": [
    "k_test_poly = (np.dot(X_test,X_train.T) + 1) **3 #Polynomial Kerenl of degree 3\n",
    "k_test_poly = k_test_poly.T"
   ]
  },
  {
   "cell_type": "code",
   "execution_count": null,
   "metadata": {},
   "outputs": [],
   "source": []
  },
  {
   "cell_type": "code",
   "execution_count": 55,
   "metadata": {},
   "outputs": [
    {
     "data": {
      "text/plain": [
       "(800, 200)"
      ]
     },
     "execution_count": 55,
     "metadata": {},
     "output_type": "execute_result"
    }
   ],
   "source": [
    "k_test_poly.shape"
   ]
  },
  {
   "cell_type": "code",
   "execution_count": 56,
   "metadata": {},
   "outputs": [
    {
     "name": "stdout",
     "output_type": "stream",
     "text": [
      "(800, 200)\n",
      "train accuracy: 97.875 %\n",
      "test accuracy: 98.0 %\n"
     ]
    }
   ],
   "source": [
    "d2 = model(k_poly, y_train, k_test_poly, y_test, num_iterations = 1000, learning_rate = 0.5)"
   ]
  },
  {
   "cell_type": "code",
   "execution_count": 57,
   "metadata": {},
   "outputs": [],
   "source": [
    "con = np.zeros((2,2))\n",
    "y_pred_train = d2['Y_prediction_train']\n",
    "for i in range(y_train.shape[1]):\n",
    "    con[int(y_pred_train[0,i]) ,int(y_train[0,i])] += 1\n",
    "        "
   ]
  },
  {
   "cell_type": "code",
   "execution_count": 58,
   "metadata": {},
   "outputs": [
    {
     "data": {
      "text/plain": [
       "array([[393.,  10.],\n",
       "       [  7., 390.]])"
      ]
     },
     "execution_count": 58,
     "metadata": {},
     "output_type": "execute_result"
    }
   ],
   "source": [
    "con"
   ]
  },
  {
   "cell_type": "code",
   "execution_count": 59,
   "metadata": {},
   "outputs": [
    {
     "data": {
      "image/png": "[encoded data removed]",
      "text/plain": [
       "<Figure size 432x288 with 1 Axes>"
      ]
     },
     "metadata": {
      "needs_background": "light"
     },
     "output_type": "display_data"
    }
   ],
   "source": [
    "y1 = np.linspace(-1.3,1.4,num = 500) \n",
    "y2 = np.linspace(-1.3,1.4,num = 500) \n",
    "y1,y2 = np.meshgrid(y1,y2)\n",
    "Y1 = y1.flatten()\n",
    "Y2 = y2.flatten()\n",
    "plot_arr = np.zeros((Y1.shape[0],2))\n",
    "plot_arr[:,0] += Y1\n",
    "plot_arr[:,1] += Y2\n",
    "k_plot = np.dot(plot_arr,X_train.T)+1\n",
    "k_plot = k_plot.T\n",
    "Z = predict(d['w'],d['b'],k_plot)\n",
    "Z = Z.T\n",
    "Z = Z.reshape(y1.shape[0],y1.shape[1])\n",
    "plt.contour(y1,y2,Z)\n",
    "plt.contourf(y1,y2,Z)\n",
    "D0 = Data2_df[Data2_df['Class_label']==0].values\n",
    "D1 = Data2_df[Data2_df['Class_label']==1].values\n",
    "plt.scatter(D0[:,0],D0[:,1],color=\"red\",s=5,label=\"class0\",marker='^')\n",
    "plt.scatter(D1[:,0],D1[:,1],color=\"blue\",s=5,label=\"class1\",marker='*')\n",
    "plt.xlabel('x1')\n",
    "plt.ylabel('x2')\n",
    "plt.legend()\n",
    "plt.title('Decision Boundary Linear Kernel(Dataset 3)')\n",
    "plt.savefig('LR_LinerKernal')\n",
    "plt.show()\n"
   ]
  },
  {
   "cell_type": "code",
   "execution_count": 60,
   "metadata": {},
   "outputs": [
    {
     "data": {
      "text/plain": [
       "(500, 500)"
      ]
     },
     "execution_count": 60,
     "metadata": {},
     "output_type": "execute_result"
    }
   ],
   "source": [
    "Z.shape"
   ]
  },
  {
   "cell_type": "code",
   "execution_count": 61,
   "metadata": {},
   "outputs": [
    {
     "data": {
      "image/png": "[encoded data removed]",
      "text/plain": [
       "<Figure size 432x288 with 1 Axes>"
      ]
     },
     "metadata": {
      "needs_background": "light"
     },
     "output_type": "display_data"
    }
   ],
   "source": [
    "y1 = np.linspace(-1.3,1.4,num = 500) #for dataset2 replace by(-1.5,2.6,1) \n",
    "y2 = np.linspace(-1.3,1.4,num = 500) \n",
    "y1,y2 = np.meshgrid(y1,y2)\n",
    "Y1 = y1.flatten()\n",
    "Y2 = y2.flatten()\n",
    "plot_arr = np.zeros((Y1.shape[0],2))\n",
    "plot_arr[:,0] += Y1\n",
    "plot_arr[:,1] += Y2\n",
    "k_plot = (np.dot(plot_arr,X_train.T)+1)**3\n",
    "k_plot = k_plot.T\n",
    "Z = predict(d2['w'],d2['b'],k_plot)\n",
    "Z = Z.T\n",
    "Z = Z.reshape(y1.shape[0],y1.shape[1])\n",
    "plt.contourf(y1,y2,Z)\n",
    "plt.contour(y1,y2,Z)\n",
    "D0 = Data2_df[Data2_df['Class_label']==0].values\n",
    "D1 = Data2_df[Data2_df['Class_label']==1].values\n",
    "plt.scatter(D0[:,0],D0[:,1],color=\"red\",s=5,label=\"class0\",marker='^')\n",
    "plt.scatter(D1[:,0],D1[:,1],color=\"blue\",s=5,label=\"class1\",marker='*')\n",
    "plt.xlabel('x1')\n",
    "plt.ylabel('x2')\n",
    "plt.legend()\n",
    "plt.title('Decision Boundary Polynomial Kernel(Dataset 3)')\n",
    "plt.savefig('LR_PolyKernal')\n",
    "plt.show()\n"
   ]
  },
  {
   "cell_type": "code",
   "execution_count": 62,
   "metadata": {},
   "outputs": [
    {
     "data": {
      "text/plain": [
       "(1, 800)"
      ]
     },
     "execution_count": 62,
     "metadata": {},
     "output_type": "execute_result"
    }
   ],
   "source": [
    "d['Y_prediction_train'].shape"
   ]
  },
  {
   "cell_type": "code",
   "execution_count": 63,
   "metadata": {},
   "outputs": [
    {
     "data": {
      "text/plain": [
       "(1, 800)"
      ]
     },
     "execution_count": 63,
     "metadata": {},
     "output_type": "execute_result"
    }
   ],
   "source": [
    "y_train.shape"
   ]
  },
  {
   "cell_type": "code",
   "execution_count": null,
   "metadata": {},
   "outputs": [],
   "source": []
  }
 ],
 "metadata": {
  "kernelspec": {
   "display_name": "Python 3",
   "language": "python",
   "name": "python3"
  },
  "language_info": {
   "codemirror_mode": {
    "name": "ipython",
    "version": 3
   },
   "file_extension": ".py",
   "mimetype": "text/x-python",
   "name": "python",
   "nbconvert_exporter": "python",
   "pygments_lexer": "ipython3",
   "version": "3.7.3"
  }
 },
 "nbformat": 4,
 "nbformat_minor": 2
}
